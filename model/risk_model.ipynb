{
 "cells": [
  {
   "cell_type": "code",
   "execution_count": null,
   "id": "854adbfa",
   "metadata": {},
   "outputs": [],
   "source": [
    "# FRED api key: 2110034933792184d022f67f36bd7295\n"
   ]
  }
 ],
 "metadata": {
  "language_info": {
   "name": "python"
  }
 },
 "nbformat": 4,
 "nbformat_minor": 5
}
